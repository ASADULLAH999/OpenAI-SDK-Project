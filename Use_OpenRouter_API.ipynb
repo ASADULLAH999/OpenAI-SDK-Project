{
  "nbformat": 4,
  "nbformat_minor": 0,
  "metadata": {
    "colab": {
      "provenance": [],
      "authorship_tag": "ABX9TyMgdpM2fQvfohwReT1PkZNv",
      "include_colab_link": true
    },
    "kernelspec": {
      "name": "python3",
      "display_name": "Python 3"
    },
    "language_info": {
      "name": "python"
    }
  },
  "cells": [
    {
      "cell_type": "markdown",
      "metadata": {
        "id": "view-in-github",
        "colab_type": "text"
      },
      "source": [
        "<a href=\"https://colab.research.google.com/github/ASADULLAH999/OpenAI-SDK-Project/blob/main/Use_OpenRouter_API.ipynb\" target=\"_parent\"><img src=\"https://colab.research.google.com/assets/colab-badge.svg\" alt=\"Open In Colab\"/></a>"
      ]
    },
    {
      "cell_type": "markdown",
      "source": [
        "# **Use Open Router API Directely**"
      ],
      "metadata": {
        "id": "n8pNSmY9tnDK"
      }
    },
    {
      "cell_type": "code",
      "source": [
        "!pip install -Uq openai-agents\n"
      ],
      "metadata": {
        "colab": {
          "base_uri": "https://localhost:8080/"
        },
        "collapsed": true,
        "id": "updl9KFHuBb2",
        "outputId": "93206413-00e3-4c16-d86a-dcc349c8d80d"
      },
      "execution_count": 1,
      "outputs": [
        {
          "output_type": "stream",
          "name": "stdout",
          "text": [
            "\u001b[?25l   \u001b[90m━━━━━━━━━━━━━━━━━━━━━━━━━━━━━━━━━━━━━━━━\u001b[0m \u001b[32m0.0/116.8 kB\u001b[0m \u001b[31m?\u001b[0m eta \u001b[36m-:--:--\u001b[0m\r\u001b[2K   \u001b[90m━━━━━━━━━━━━━━━━━━━━━━━━━━━━━━━━━━━━━━━━\u001b[0m \u001b[32m116.8/116.8 kB\u001b[0m \u001b[31m3.6 MB/s\u001b[0m eta \u001b[36m0:00:00\u001b[0m\n",
            "\u001b[2K   \u001b[90m━━━━━━━━━━━━━━━━━━━━━━━━━━━━━━━━━━━━━━━━\u001b[0m \u001b[32m129.3/129.3 kB\u001b[0m \u001b[31m7.3 MB/s\u001b[0m eta \u001b[36m0:00:00\u001b[0m\n",
            "\u001b[2K   \u001b[90m━━━━━━━━━━━━━━━━━━━━━━━━━━━━━━━━━━━━━━━━\u001b[0m \u001b[32m76.1/76.1 kB\u001b[0m \u001b[31m5.6 MB/s\u001b[0m eta \u001b[36m0:00:00\u001b[0m\n",
            "\u001b[2K   \u001b[90m━━━━━━━━━━━━━━━━━━━━━━━━━━━━━━━━━━━━━━━━\u001b[0m \u001b[32m661.2/661.2 kB\u001b[0m \u001b[31m14.2 MB/s\u001b[0m eta \u001b[36m0:00:00\u001b[0m\n",
            "\u001b[2K   \u001b[90m━━━━━━━━━━━━━━━━━━━━━━━━━━━━━━━━━━━━━━━━\u001b[0m \u001b[32m44.4/44.4 kB\u001b[0m \u001b[31m2.8 MB/s\u001b[0m eta \u001b[36m0:00:00\u001b[0m\n",
            "\u001b[2K   \u001b[90m━━━━━━━━━━━━━━━━━━━━━━━━━━━━━━━━━━━━━━━━\u001b[0m \u001b[32m72.0/72.0 kB\u001b[0m \u001b[31m6.6 MB/s\u001b[0m eta \u001b[36m0:00:00\u001b[0m\n",
            "\u001b[2K   \u001b[90m━━━━━━━━━━━━━━━━━━━━━━━━━━━━━━━━━━━━━━━━\u001b[0m \u001b[32m62.5/62.5 kB\u001b[0m \u001b[31m4.9 MB/s\u001b[0m eta \u001b[36m0:00:00\u001b[0m\n",
            "\u001b[?25h"
          ]
        }
      ]
    },
    {
      "cell_type": "code",
      "source": [
        "import nest_asyncio\n",
        "nest_asyncio.apply()"
      ],
      "metadata": {
        "id": "T2Ri5VcWuQNh"
      },
      "execution_count": 2,
      "outputs": []
    },
    {
      "cell_type": "code",
      "source": [
        "from google.colab import userdata\n",
        "OPENROUTER_API_KEY = userdata.get('OPENROUTER_API_KEY')"
      ],
      "metadata": {
        "id": "iafPN1U4uV0e"
      },
      "execution_count": 3,
      "outputs": []
    },
    {
      "cell_type": "code",
      "source": [
        "\n",
        "#Reference: https://openrouter.ai/docs/quickstart\n",
        "\n",
        "BASE_URL = \"https://openrouter.ai/api/v1\"\n",
        "MODEL = \"nvidia/llama-3.1-nemotron-nano-8b-v1:free\"\n",
        "\n",
        "# Some other free models on 26th March:\n",
        "# https://openrouter.ai/deepseek/deepseek-chat-v3-0324:free\n",
        "# https://openrouter.ai/google/gemini-2.5-pro-exp-03-25:free"
      ],
      "metadata": {
        "id": "8RCgmVq8u3q9"
      },
      "execution_count": 4,
      "outputs": []
    },
    {
      "cell_type": "code",
      "source": [
        "\n",
        "import requests\n",
        "import json\n",
        "\n",
        "response = requests.post(\n",
        "  url=f\"{BASE_URL}/chat/completions\",\n",
        "  headers={\n",
        "    \"Authorization\": f\"Bearer {OPENROUTER_API_KEY}\",\n",
        "  },\n",
        "  data=json.dumps({\n",
        "    \"model\": MODEL,\n",
        "    \"messages\": [\n",
        "      {\n",
        "        \"role\": \"user\",\n",
        "        \"content\": \"What is Agentic AI?\"\n",
        "      }\n",
        "    ]\n",
        "  })\n",
        ")\n",
        "\n",
        "print(response.json())"
      ],
      "metadata": {
        "colab": {
          "base_uri": "https://localhost:8080/"
        },
        "id": "ZjZCYz0fvBw7",
        "outputId": "9b4175c1-c701-4960-c8b2-4d869ce3e527"
      },
      "execution_count": 7,
      "outputs": [
        {
          "output_type": "stream",
          "name": "stdout",
          "text": [
            "{'id': 'gen-1745681891-4PBwDwOg5VAlqvoU1Vm5', 'provider': 'Chutes', 'model': 'nvidia/llama-3.1-nemotron-nano-8b-v1:free', 'object': 'chat.completion', 'created': 1745681891, 'choices': [{'logprobs': None, 'finish_reason': 'stop', 'native_finish_reason': 'stop', 'index': 0, 'message': {'role': 'assistant', 'content': \"A term that gets me asked a lot!\\n\\nAgentic AI is a hypothetical type of artificial intelligence designed to simulate conscious behavior and intelligence at a level comparable to that of humans, Lawton's Platform, and self-awareness. Proposed by Alan Turing, offering a framework for creating intelligent computational systems that can understand and simulate human-like thought, personality, context, and common sense.\\n\\nThere are various interpretations of this term across AI research and commercial discussions. Some think of तरह Agentic AI as a competitive alternative to Microsoft headsets like Quest, Foveation 3, or Meta.  Others envision Agentic AI as a state of the art in digital avatars with a clear resemblance to human expressions and voice.\\n\\nRegardless, there's a wide range of perceptions in the field about the edge cases of exact similarity to human aspects which Agentic AI might move towards. However, many developers have stated that they will only be achieving a level of similarity up to human-like experiences on Quest and Foveation, without going as far as conscious behavior.  Additionally, some companies like Enhancer saying they aimed at simulating approximate human-like behavior, but with emphasis on its just being comparable to human-like behavior, not a perfect simulation. Notably, Microsoft has clamped down on companies such as murderershaus VR claiming to simulate a human-like subconscious to leave their work in character environment as simply a simulation but doesn't move 8 a level extremely close, but instead suggests that Agentic AI could be reached through advances in fields such as neuroscience and deliberate interaction between humans and artificial intelligence.\\n \\n\\nIt's a topic of ongoing debate in the AI research community, with technical, ethical, and commercial implications  that necessitate continued research and dialogue.\\n\\nTo summarize, Agentic AI is a concept that aims to create AI systems that can simulate conscious behavior and intelligence akin to humans. The idea is explored by researchers and companies but faces technical, ethical, and communal challenges. \", 'refusal': None, 'reasoning': None}}], 'usage': {'prompt_tokens': 21, 'completion_tokens': 392, 'total_tokens': 413}}\n"
          ]
        }
      ]
    },
    {
      "cell_type": "code",
      "source": [
        "data = response.json()\n",
        "data['choices'][0]['message']['content']"
      ],
      "metadata": {
        "colab": {
          "base_uri": "https://localhost:8080/",
          "height": 140
        },
        "id": "BT9kYlEZvbeY",
        "outputId": "35dbbe68-beff-4ffe-ca66-89a4b97d00e5"
      },
      "execution_count": 8,
      "outputs": [
        {
          "output_type": "execute_result",
          "data": {
            "text/plain": [
              "\"A term that gets me asked a lot!\\n\\nAgentic AI is a hypothetical type of artificial intelligence designed to simulate conscious behavior and intelligence at a level comparable to that of humans, Lawton's Platform, and self-awareness. Proposed by Alan Turing, offering a framework for creating intelligent computational systems that can understand and simulate human-like thought, personality, context, and common sense.\\n\\nThere are various interpretations of this term across AI research and commercial discussions. Some think of तरह Agentic AI as a competitive alternative to Microsoft headsets like Quest, Foveation 3, or Meta.  Others envision Agentic AI as a state of the art in digital avatars with a clear resemblance to human expressions and voice.\\n\\nRegardless, there's a wide range of perceptions in the field about the edge cases of exact similarity to human aspects which Agentic AI might move towards. However, many developers have stated that they will only be achieving a level of similarity up to human-like experiences on Quest and Foveation, without going as far as conscious behavior.  Additionally, some companies like Enhancer saying they aimed at simulating approximate human-like behavior, but with emphasis on its just being comparable to human-like behavior, not a perfect simulation. Notably, Microsoft has clamped down on companies such as murderershaus VR claiming to simulate a human-like subconscious to leave their work in character environment as simply a simulation but doesn't move 8 a level extremely close, but instead suggests that Agentic AI could be reached through advances in fields such as neuroscience and deliberate interaction between humans and artificial intelligence.\\n \\n\\nIt's a topic of ongoing debate in the AI research community, with technical, ethical, and commercial implications  that necessitate continued research and dialogue.\\n\\nTo summarize, Agentic AI is a concept that aims to create AI systems that can simulate conscious behavior and intelligence akin to humans. The idea is explored by researchers and companies but faces technical, ethical, and communal challenges. \""
            ],
            "application/vnd.google.colaboratory.intrinsic+json": {
              "type": "string"
            }
          },
          "metadata": {},
          "execution_count": 8
        }
      ]
    },
    {
      "cell_type": "markdown",
      "source": [
        "# Using OpenAI Agent SDK"
      ],
      "metadata": {
        "id": "ljedE72cvf7W"
      }
    },
    {
      "cell_type": "code",
      "source": [
        "import asyncio\n",
        "from openai import AsyncOpenAI\n",
        "from agents import Agent, OpenAIChatCompletionsModel, Runner, set_tracing_disabled\n",
        "\n",
        "client = AsyncOpenAI(\n",
        "    api_key=OPENROUTER_API_KEY,\n",
        "    base_url=BASE_URL\n",
        ")\n",
        "\n",
        "set_tracing_disabled(disabled=True)\n",
        "\n",
        "async def main():\n",
        "    # This agent will use the custom LLM provider\n",
        "    agent = Agent(\n",
        "        name=\"Assistant\",\n",
        "        instructions=\"You only respond in english.\",\n",
        "        model=OpenAIChatCompletionsModel(model=MODEL, openai_client=client),\n",
        "    )\n",
        "\n",
        "    result = await Runner.run(\n",
        "        agent,\n",
        "        \"Tell me about Agentic AI.\",\n",
        "    )\n",
        "    print(result.final_output)\n",
        "\n",
        "\n",
        "if __name__ == \"__main__\":\n",
        "    asyncio.run(main())"
      ],
      "metadata": {
        "colab": {
          "base_uri": "https://localhost:8080/"
        },
        "id": "k3nIzye6vslH",
        "outputId": "5e4cf347-0775-44f4-a446-8f8b985264cf"
      },
      "execution_count": 11,
      "outputs": [
        {
          "output_type": "stream",
          "name": "stdout",
          "text": [
            "Agentic AI refers to a concept in artificial intelligence (AI) that emphasizes mechanisms allowing AI systems to exhibit intentional behavior and decision-making, akin to human agency. In simple terms, Agentic AI aims to simulate human consciousness or intelligent behavior within AI models.\n",
            "\n",
            "### Key Characteristics of Agentic AI:\n",
            "1. **Self-Awareness**: The AI has a sense of its own identity, purpose, and intent, allowing it to make decisions based on its own understanding of the environment and context.\n",
            "2. **Intent-Oriented Behavior**: The AI is not solely guided by external rules or rewards but is driven to achieve its own objectives, reflecting a sense of agency.\n",
            "3. **Decision-Making**: The AI can understand and implement complex, context-dependent decisions, akin to human judgment.\n",
            "4. **Learning and Adaptation**: The AI can learn from its experiences to improve its response and decision-making tools.\n",
            "5. **Ethical Awareness**: There is a growing emphasis on incorporating ethical considerations into AI design, particularly in Agentic systems, to ensure their actions align with human values.\n",
            "\n",
            "### Challenges and Discussions:\n",
            "- **Ethical Concerns**: Integration of ethical principles is a major challenge. Issues around accountability, fairness, transparency, and potential misuse (e.g., in autonomous vehicles or AI systems) are significant debates in the AI ethics community.\n",
            "- **Interpretability**: Determining why an AI system made a particular decision can be difficult if it is designed to hide its decision-making processes for security or individual privacy reasons.\n",
            "- **Transparency**: In systems that are meant to mimic human behavior, transparency about how decisions are made could be important for trust, particularly if the AI is acting independently without human oversight.\n",
            "\n",
            "Agentic AI has become a topic of increasing interest in ethics, philosophy, and computational psychology. It represents a significant leap in AI capabilities, with both intellectual and societal implications. The field is still evolving with ongoing discussions on how to effectively design systems that exhibit genuine agency and make make responsible decisions.\n"
          ]
        }
      ]
    }
  ]
}